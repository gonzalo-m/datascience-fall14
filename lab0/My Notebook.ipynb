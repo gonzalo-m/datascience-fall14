{
 "metadata": {
  "name": ""
 },
 "nbformat": 3,
 "nbformat_minor": 0,
 "worksheets": [
  {
   "cells": [
    {
     "cell_type": "code",
     "collapsed": false,
     "input": [
      "import matplotlib.pyplot as plt\n",
      "import numpy as np\n",
      "import pandas as pd\n",
      "# Make the graphs a bit prettier, and bigger\n",
      "pd.set_option('display.mpl_style', 'default') \n",
      "pd.set_option('display.line_width', 5000) \n",
      "pd.set_option('display.max_columns', 60) \n",
      "\n",
      "figsize(15, 5)"
     ],
     "language": "python",
     "metadata": {},
     "outputs": [],
     "prompt_number": 98
    },
    {
     "cell_type": "code",
     "collapsed": false,
     "input": [
      "dc_crimes = pd.read_csv('crime_incidents_2013_CSV.csv')\n",
      "dc_crimes[:5]"
     ],
     "language": "python",
     "metadata": {},
     "outputs": [
      {
       "html": [
        "<div style=\"max-height:1000px;max-width:1500px;overflow:auto;\">\n",
        "<table border=\"1\" class=\"dataframe\">\n",
        "  <thead>\n",
        "    <tr style=\"text-align: right;\">\n",
        "      <th></th>\n",
        "      <th>CCN</th>\n",
        "      <th>REPORTDATETIME</th>\n",
        "      <th>SHIFT</th>\n",
        "      <th>OFFENSE</th>\n",
        "      <th>METHOD</th>\n",
        "      <th>LASTMODIFIEDDATE</th>\n",
        "      <th>BLOCKSITEADDRESS</th>\n",
        "      <th>BLOCKXCOORD</th>\n",
        "      <th>BLOCKYCOORD</th>\n",
        "      <th>WARD</th>\n",
        "      <th>ANC</th>\n",
        "      <th>DISTRICT</th>\n",
        "      <th>PSA</th>\n",
        "      <th>NEIGHBORHOODCLUSTER</th>\n",
        "      <th>BUSINESSIMPROVEMENTDISTRICT</th>\n",
        "      <th>BLOCK_GROUP</th>\n",
        "      <th>CENSUS_TRACT</th>\n",
        "      <th>VOTING_PRECINCT</th>\n",
        "      <th>START_DATE</th>\n",
        "      <th>END_DATE</th>\n",
        "    </tr>\n",
        "  </thead>\n",
        "  <tbody>\n",
        "    <tr>\n",
        "      <th>0</th>\n",
        "      <td> 4104147</td>\n",
        "      <td> 4/16/2013 12:00:00 AM</td>\n",
        "      <td> MIDNIGHT</td>\n",
        "      <td>  HOMICIDE</td>\n",
        "      <td>  KNIFE</td>\n",
        "      <td> 9/10/2014 8:34:10 AM</td>\n",
        "      <td>         1500 - 1599 BLOCK OF 1ST STREET SW</td>\n",
        "      <td> 398943</td>\n",
        "      <td> 133729</td>\n",
        "      <td> 6</td>\n",
        "      <td> 6D</td>\n",
        "      <td>  FIRST</td>\n",
        "      <td> 105</td>\n",
        "      <td>  9</td>\n",
        "      <td>          NaN</td>\n",
        "      <td> 006400 2</td>\n",
        "      <td> 6400</td>\n",
        "      <td> Precinct 127</td>\n",
        "      <td>  7/27/2004 8:30:00 PM</td>\n",
        "      <td> 7/27/2004 8:30:00 PM</td>\n",
        "    </tr>\n",
        "    <tr>\n",
        "      <th>1</th>\n",
        "      <td> 5047867</td>\n",
        "      <td>  6/5/2013 12:00:00 AM</td>\n",
        "      <td> MIDNIGHT</td>\n",
        "      <td> SEX ABUSE</td>\n",
        "      <td>  KNIFE</td>\n",
        "      <td> 9/10/2014 8:34:09 AM</td>\n",
        "      <td> 6500  - 6599 BLOCK OF PINEY BRANCH ROAD NW</td>\n",
        "      <td> 397769</td>\n",
        "      <td> 144596</td>\n",
        "      <td> 4</td>\n",
        "      <td> 4B</td>\n",
        "      <td> FOURTH</td>\n",
        "      <td> 402</td>\n",
        "      <td> 17</td>\n",
        "      <td>          NaN</td>\n",
        "      <td> 001901 4</td>\n",
        "      <td> 1901</td>\n",
        "      <td>  Precinct 59</td>\n",
        "      <td> 4/15/2005 12:30:00 PM</td>\n",
        "      <td>                  NaN</td>\n",
        "    </tr>\n",
        "    <tr>\n",
        "      <th>2</th>\n",
        "      <td> 7083463</td>\n",
        "      <td>  7/8/2013 12:00:00 AM</td>\n",
        "      <td> MIDNIGHT</td>\n",
        "      <td> SEX ABUSE</td>\n",
        "      <td> OTHERS</td>\n",
        "      <td> 9/10/2014 8:34:09 AM</td>\n",
        "      <td>      1800 - 1810 BLOCK OF COLUMBIA ROAD NW</td>\n",
        "      <td> 396275</td>\n",
        "      <td> 139402</td>\n",
        "      <td> 1</td>\n",
        "      <td> 1C</td>\n",
        "      <td>  THIRD</td>\n",
        "      <td> 303</td>\n",
        "      <td>  1</td>\n",
        "      <td> ADAMS MORGAN</td>\n",
        "      <td> 004002 1</td>\n",
        "      <td> 4002</td>\n",
        "      <td>  Precinct 25</td>\n",
        "      <td>  7/14/2007 3:00:00 PM</td>\n",
        "      <td>                  NaN</td>\n",
        "    </tr>\n",
        "    <tr>\n",
        "      <th>3</th>\n",
        "      <td> 9172197</td>\n",
        "      <td>  4/8/2013 12:00:00 AM</td>\n",
        "      <td> MIDNIGHT</td>\n",
        "      <td> SEX ABUSE</td>\n",
        "      <td> OTHERS</td>\n",
        "      <td> 9/10/2014 8:34:11 AM</td>\n",
        "      <td>       2322 - 2499 BLOCK OF ONTARIO ROAD NW</td>\n",
        "      <td> 396518</td>\n",
        "      <td> 139335</td>\n",
        "      <td> 1</td>\n",
        "      <td> 1C</td>\n",
        "      <td>  THIRD</td>\n",
        "      <td> 303</td>\n",
        "      <td>  1</td>\n",
        "      <td>          NaN</td>\n",
        "      <td> 003800 1</td>\n",
        "      <td> 3800</td>\n",
        "      <td>  Precinct 24</td>\n",
        "      <td>  5/22/2009 1:00:00 PM</td>\n",
        "      <td> 5/22/2009 3:00:00 AM</td>\n",
        "    </tr>\n",
        "    <tr>\n",
        "      <th>4</th>\n",
        "      <td> 9251354</td>\n",
        "      <td> 2/27/2013 12:00:00 AM</td>\n",
        "      <td> MIDNIGHT</td>\n",
        "      <td> SEX ABUSE</td>\n",
        "      <td> OTHERS</td>\n",
        "      <td> 9/10/2014 8:34:10 AM</td>\n",
        "      <td>    2500 - 2699 BLOCK OF VIRGINIA AVENUE NW</td>\n",
        "      <td> 395232</td>\n",
        "      <td> 136881</td>\n",
        "      <td> 2</td>\n",
        "      <td> 2A</td>\n",
        "      <td> SECOND</td>\n",
        "      <td> 207</td>\n",
        "      <td>  5</td>\n",
        "      <td>          NaN</td>\n",
        "      <td> 005600 2</td>\n",
        "      <td> 5600</td>\n",
        "      <td>   Precinct 3</td>\n",
        "      <td>   1/1/2009 2:05:00 PM</td>\n",
        "      <td>  1/1/2009 3:00:00 PM</td>\n",
        "    </tr>\n",
        "  </tbody>\n",
        "</table>\n",
        "<p>5 rows \u00d7 20 columns</p>\n",
        "</div>"
       ],
       "metadata": {},
       "output_type": "pyout",
       "prompt_number": 99,
       "text": [
        "       CCN         REPORTDATETIME     SHIFT    OFFENSE  METHOD      LASTMODIFIEDDATE                            BLOCKSITEADDRESS  BLOCKXCOORD  BLOCKYCOORD  WARD ANC DISTRICT  PSA  NEIGHBORHOODCLUSTER BUSINESSIMPROVEMENTDISTRICT BLOCK_GROUP  CENSUS_TRACT VOTING_PRECINCT             START_DATE              END_DATE\n",
        "0  4104147  4/16/2013 12:00:00 AM  MIDNIGHT   HOMICIDE   KNIFE  9/10/2014 8:34:10 AM          1500 - 1599 BLOCK OF 1ST STREET SW       398943       133729     6  6D    FIRST  105                    9                         NaN    006400 2          6400    Precinct 127   7/27/2004 8:30:00 PM  7/27/2004 8:30:00 PM\n",
        "1  5047867   6/5/2013 12:00:00 AM  MIDNIGHT  SEX ABUSE   KNIFE  9/10/2014 8:34:09 AM  6500  - 6599 BLOCK OF PINEY BRANCH ROAD NW       397769       144596     4  4B   FOURTH  402                   17                         NaN    001901 4          1901     Precinct 59  4/15/2005 12:30:00 PM                   NaN\n",
        "2  7083463   7/8/2013 12:00:00 AM  MIDNIGHT  SEX ABUSE  OTHERS  9/10/2014 8:34:09 AM       1800 - 1810 BLOCK OF COLUMBIA ROAD NW       396275       139402     1  1C    THIRD  303                    1                ADAMS MORGAN    004002 1          4002     Precinct 25   7/14/2007 3:00:00 PM                   NaN\n",
        "3  9172197   4/8/2013 12:00:00 AM  MIDNIGHT  SEX ABUSE  OTHERS  9/10/2014 8:34:11 AM        2322 - 2499 BLOCK OF ONTARIO ROAD NW       396518       139335     1  1C    THIRD  303                    1                         NaN    003800 1          3800     Precinct 24   5/22/2009 1:00:00 PM  5/22/2009 3:00:00 AM\n",
        "4  9251354  2/27/2013 12:00:00 AM  MIDNIGHT  SEX ABUSE  OTHERS  9/10/2014 8:34:10 AM     2500 - 2699 BLOCK OF VIRGINIA AVENUE NW       395232       136881     2  2A   SECOND  207                    5                         NaN    005600 2          5600      Precinct 3    1/1/2009 2:05:00 PM   1/1/2009 3:00:00 PM\n",
        "\n",
        "[5 rows x 20 columns]"
       ]
      }
     ],
     "prompt_number": 99
    },
    {
     "cell_type": "code",
     "collapsed": false,
     "input": [
      "dc_crimes.dtypes"
     ],
     "language": "python",
     "metadata": {},
     "outputs": [
      {
       "metadata": {},
       "output_type": "pyout",
       "prompt_number": 100,
       "text": [
        "CCN                              int64\n",
        "REPORTDATETIME                  object\n",
        "SHIFT                           object\n",
        "OFFENSE                         object\n",
        "METHOD                          object\n",
        "LASTMODIFIEDDATE                object\n",
        "BLOCKSITEADDRESS                object\n",
        "BLOCKXCOORD                    float64\n",
        "BLOCKYCOORD                    float64\n",
        "WARD                           float64\n",
        "ANC                             object\n",
        "DISTRICT                        object\n",
        "PSA                             object\n",
        "NEIGHBORHOODCLUSTER            float64\n",
        "BUSINESSIMPROVEMENTDISTRICT     object\n",
        "BLOCK_GROUP                     object\n",
        "CENSUS_TRACT                   float64\n",
        "VOTING_PRECINCT                 object\n",
        "START_DATE                      object\n",
        "END_DATE                        object\n",
        "dtype: object"
       ]
      }
     ],
     "prompt_number": 100
    },
    {
     "cell_type": "code",
     "collapsed": false,
     "input": [
      "type(dc_crimes)\n"
     ],
     "language": "python",
     "metadata": {},
     "outputs": [
      {
       "metadata": {},
       "output_type": "pyout",
       "prompt_number": 101,
       "text": [
        "pandas.core.frame.DataFrame"
       ]
      }
     ],
     "prompt_number": 101
    },
    {
     "cell_type": "code",
     "collapsed": false,
     "input": [
      "dc_crimes.iget_value(0, 0)"
     ],
     "language": "python",
     "metadata": {},
     "outputs": [
      {
       "metadata": {},
       "output_type": "pyout",
       "prompt_number": 102,
       "text": [
        "4104147"
       ]
      }
     ],
     "prompt_number": 102
    },
    {
     "cell_type": "code",
     "collapsed": false,
     "input": [
      "len(dc_crimes)"
     ],
     "language": "python",
     "metadata": {},
     "outputs": [
      {
       "metadata": {},
       "output_type": "pyout",
       "prompt_number": 103,
       "text": [
        "35886"
       ]
      }
     ],
     "prompt_number": 103
    },
    {
     "cell_type": "code",
     "collapsed": false,
     "input": [
      "len(dc_crimes.SHIFT)"
     ],
     "language": "python",
     "metadata": {},
     "outputs": [
      {
       "metadata": {},
       "output_type": "pyout",
       "prompt_number": 104,
       "text": [
        "35886"
       ]
      }
     ],
     "prompt_number": 104
    },
    {
     "cell_type": "code",
     "collapsed": false,
     "input": [
      "len(dc_crimes.columns)\n",
      "dc_crimes['OFFENSE']"
     ],
     "language": "python",
     "metadata": {},
     "outputs": [
      {
       "metadata": {},
       "output_type": "pyout",
       "prompt_number": 105,
       "text": [
        "0        HOMICIDE\n",
        "1       SEX ABUSE\n",
        "2       SEX ABUSE\n",
        "3       SEX ABUSE\n",
        "4       SEX ABUSE\n",
        "5       SEX ABUSE\n",
        "6       SEX ABUSE\n",
        "7       SEX ABUSE\n",
        "8        HOMICIDE\n",
        "9        HOMICIDE\n",
        "10      SEX ABUSE\n",
        "11    THEFT/OTHER\n",
        "12    THEFT/OTHER\n",
        "13      SEX ABUSE\n",
        "14      SEX ABUSE\n",
        "...\n",
        "35871    THEFT F/AUTO\n",
        "35872     THEFT/OTHER\n",
        "35873    THEFT F/AUTO\n",
        "35874    THEFT F/AUTO\n",
        "35875     THEFT/OTHER\n",
        "35876     THEFT/OTHER\n",
        "35877    THEFT F/AUTO\n",
        "35878     THEFT/OTHER\n",
        "35879    THEFT F/AUTO\n",
        "35880    THEFT F/AUTO\n",
        "35881    THEFT F/AUTO\n",
        "35882    THEFT F/AUTO\n",
        "35883     THEFT/OTHER\n",
        "35884     THEFT/OTHER\n",
        "35885    THEFT F/AUTO\n",
        "Name: OFFENSE, Length: 35886, dtype: object"
       ]
      }
     ],
     "prompt_number": 105
    },
    {
     "cell_type": "code",
     "collapsed": false,
     "input": [
      "crime_counts = dc_crimes['OFFENSE'].value_counts()\n",
      "crime_counts"
     ],
     "language": "python",
     "metadata": {},
     "outputs": [
      {
       "metadata": {},
       "output_type": "pyout",
       "prompt_number": 106,
       "text": [
        "THEFT/OTHER                   12888\n",
        "THEFT F/AUTO                  10128\n",
        "ROBBERY                        4075\n",
        "BURGLARY                       3370\n",
        "MOTOR VEHICLE THEFT            2676\n",
        "ASSAULT W/DANGEROUS WEAPON     2310\n",
        "SEX ABUSE                       300\n",
        "HOMICIDE                        104\n",
        "ARSON                            35\n",
        "dtype: int64"
       ]
      }
     ],
     "prompt_number": 106
    },
    {
     "cell_type": "code",
     "collapsed": false,
     "input": [
      "crime_counts[:10].plot(kind='bar')"
     ],
     "language": "python",
     "metadata": {},
     "outputs": [
      {
       "metadata": {},
       "output_type": "pyout",
       "prompt_number": 107,
       "text": [
        "<matplotlib.axes.AxesSubplot at 0xab8cbc4c>"
       ]
      }
     ],
     "prompt_number": 107
    },
    {
     "cell_type": "code",
     "collapsed": false,
     "input": [],
     "language": "python",
     "metadata": {},
     "outputs": [],
     "prompt_number": 96
    },
    {
     "cell_type": "code",
     "collapsed": true,
     "input": [],
     "language": "python",
     "metadata": {},
     "outputs": [],
     "prompt_number": 59
    },
    {
     "cell_type": "code",
     "collapsed": false,
     "input": [],
     "language": "python",
     "metadata": {},
     "outputs": [],
     "prompt_number": 27
    },
    {
     "cell_type": "code",
     "collapsed": false,
     "input": [],
     "language": "python",
     "metadata": {},
     "outputs": [],
     "prompt_number": 87
    },
    {
     "cell_type": "code",
     "collapsed": false,
     "input": [],
     "language": "python",
     "metadata": {},
     "outputs": []
    }
   ],
   "metadata": {}
  }
 ]
}